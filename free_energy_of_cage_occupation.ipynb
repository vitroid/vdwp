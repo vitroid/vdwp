{
 "cells": [
  {
   "cell_type": "markdown",
   "metadata": {},
   "source": [
    "<a href=\"https://colab.research.google.com/github/vitroid/vdwp/blob/main/free_energy_of_cage_occupation.ipynb\" target=\"_parent\"><img src=\"https://colab.research.google.com/assets/colab-badge.svg\" alt=\"Open In Colab\"/></a>\n"
   ]
  },
  {
   "cell_type": "markdown",
   "metadata": {},
   "source": [
    "# $f$の導出\n",
    "\n",
    "(`2017/formulae/enthalpy20151110.tex`より抽出)\n",
    "\n",
    "まず vdWP 理論の分配関数から。ハイドレート結晶の分配関数は近似的に次のように書ける。\n",
    "\n",
    "<!-- $$\\label{eq:vdWP} -->\n",
    "\n",
    "$$\n",
    "\\Xi=\\exp\\left[-\\beta A_w^0\\right]\\prod_k\\left[1+\\sum_j\\exp\\left(\\beta(\\mu_j-f_j^k)\\right)\\right]^{N_k}\\tag{0.1}\n",
    "$$\n",
    "\n",
    "ただし、$A_w^0$は空のクラスレートハイドレートを構成する水の自由エネルギー、$k$はケージの種類、$N_k$は単位格子あたりのケージ種 $k$ のケージの個数、$j$はゲスト分子の種類。\n",
    "\n",
    "(0.1)の対数に$kT$を掛けると Gibbs 自由エネルギーが得られる。\n",
    "\n",
    "$$\n",
    "G_w=-kT\\ln\\Xi=A_w^0-kT\\sum_kN_k\\ln\\left[1+\\sum_j\\exp\\left(\\beta(\\mu_j-f_j^k)\\right)\\right]\n",
    "\\tag{0.2}\n",
    "$$\n",
    "\n",
    "これを水分子数$N_w$で微分するとクラスレートを構成する水分子の化学ポテンシャルが得られる。\n",
    "\n",
    "$$\n",
    "\\begin{aligned}\n",
    "\\mu_c&=&\\mu_c^0-kT\\sum_k\\alpha_k\\ln\\left[1+\\sum_j\\exp\\left(\\beta(\\mu_j-f_j^k)\\right)\\right]\\\\\n",
    "&=&\\mu_c^0+\\Delta\\mu_c\n",
    "\\end{aligned}\n",
    "\\tag{0.3}\n",
    "$$\n",
    "\n",
    "$\\alpha_k=N_k/N_w$は単位格子内の水分子の個数に対するケージの個数の比、$\\mu_c^0$は空ケージを構成する水分子の化学ポテンシャル、$\\Delta\\mu_c$はケージにゲストが入ることによる化学ポテンシャル変化分。\n",
    "\n",
    "$f_j^k$はゲスト種$j$ がケージ種 $k$に含まれる場合のケージ占有自由エネルギーで、以下の細かい項に分解できる。\n",
    "\n",
    "<!-- $$\\label{eq:f} -->\n",
    "\n",
    "$$\n",
    "f=f_0+a+c+s\\tag{0.4}\n",
    "$$\n",
    "\n",
    "$f_0$は積分の中核部分。単原子分子の場合は\n",
    "\n",
    "$$\n",
    "f_0=-kT\\ln\\int\\exp\\left[-\\beta w({\\bf r})\\right]{\\rm d}{\\bf r}\\tag{0.5}\n",
    "$$\n",
    "\n",
    "多原子分子の場合は配向に関する積分が必要になり、\n",
    "\n",
    "<!-- $$\\label{eq:f0mol} -->\n",
    "\n",
    "$$\n",
    "f_0=-kT\\ln\\int_{\\bf \\Omega}\\int_{\\bf r}\\exp\\left[-\\beta w({\\bf r},{\\bf \\Omega})\\right]{\\rm d}{\\bf r}{\\rm d}{\\bf \\Omega}\\tag{0.6}\n",
    "$$\n",
    "\n",
    "(さらに$\\Omega$を具体的に分解する)\n",
    "\n",
    "$a$は質量項。\n",
    "\n",
    "$$\n",
    "a=-\\frac{3kT\\ln(m/2\\pi\\beta\\hbar^2)}{2}\\tag{0.7}\n",
    "$$\n",
    "\n",
    "$c$は慣性モーメント項。(直線分子と剛体分子のみ)。 直線分子の場合\n",
    "\n",
    "$$\n",
    "c=-kT\\ln(I/2\\pi\\beta\\hbar^2)\\tag{0.8}\n",
    "$$\n",
    "\n",
    "剛体分子の場合\n",
    "\n",
    "$$\n",
    "c=-\\frac{kT}{2}\\sum_{j=1}^3\\ln(I_j/2\\pi\\beta\\hbar^2)\\tag{0.9}\n",
    "$$\n",
    "\n",
    "$s$は分子の対称性からの寄与。\n",
    "\n",
    "$$\n",
    "s=kT\\ln\\sigma\\tag{0.10}\n",
    "$$\n",
    "\n",
    "$\\sigma$は分子の回転対称性からくる項。\n",
    "\n",
    "$\\mu$は分解状態でのゲスト分子の化学ポテンシャルであり、液体か気体か水溶液かで計算の方法が異なる。\n"
   ]
  },
  {
   "cell_type": "markdown",
   "metadata": {},
   "source": [
    "## 2. 計算の高速化\n",
    "\n",
    "この一連の計算のなかで、もっとも計算コストが高いのは、(0.6)の分配関数に現れる積分である。これに関しては、`cage_integral/README.md`を参照。\n"
   ]
  },
  {
   "cell_type": "code",
   "execution_count": 2,
   "metadata": {},
   "outputs": [
    {
     "name": "stdout",
     "output_type": "stream",
     "text": [
      "12 -25.72669854539032\n",
      "14 -28.98053517251452\n",
      "16 -29.553031016967765\n"
     ]
    }
   ],
   "source": [
    "import vdwp.chempot as chempot\n",
    "from cage_integral import histo2f, histo, molecule\n",
    "\n",
    "# 分子の形と相互作用の情報を読み込む\n",
    "with open(\"cage_integral/DEFR\", encoding=\"utf-8\") as file:\n",
    "    moldict = molecule.loadInfo(file)\n",
    "\n",
    "# ゲスト分子のラベルを入力する\n",
    "label = input(\"Guest label (e.g. LJME____)\")\n",
    "guest = moldict[label]\n",
    "\n",
    "temperature = 273.15\n",
    "\n",
    "for cage in 12, 14, 16:\n",
    "\n",
    "    # ヒストグラムファイルを読み込む\n",
    "    histofile = f\"cage_integral/{label}.{cage}hedra.histo\"\n",
    "    histogram = histo.loadAHisto(open(histofile))\n",
    "\n",
    "    # ヒストグラムが存在する場合\n",
    "    if histogram != None:\n",
    "        # ケージ占有自由エネルギーを計算する\n",
    "        print(\n",
    "            cage,\n",
    "            # histo2f.fvalue(histogram, temperature),\n",
    "            histo2f.fvalue(histogram, temperature)\n",
    "            + chempot.molecular_chemical_potential_corrections(\n",
    "                temperature, guest.mass, guest.symm, guest.moi\n",
    "            ),\n",
    "        )"
   ]
  }
 ],
 "metadata": {
  "kernelspec": {
   "display_name": ".venv",
   "language": "python",
   "name": "python3"
  },
  "language_info": {
   "codemirror_mode": {
    "name": "ipython",
    "version": 3
   },
   "file_extension": ".py",
   "mimetype": "text/x-python",
   "name": "python",
   "nbconvert_exporter": "python",
   "pygments_lexer": "ipython3",
   "version": "3.11.4"
  }
 },
 "nbformat": 4,
 "nbformat_minor": 2
}
