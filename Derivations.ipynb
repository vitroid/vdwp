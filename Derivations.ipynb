{
  "cells": [
    {
      "cell_type": "markdown",
      "id": "75136325",
      "metadata": {
        "id": "75136325"
      },
      "source": [
        "# 田中式の導出\n",
        "\n",
        "高圧の場合、圧力による体積変化が無視できない。(低圧のほうは無視してもよいはず。あとで考える。)\n",
        "その場合、熱力学ポテンシャルは、\n",
        "\n",
        "(21)\n",
        "$$\\Psi=\\Phi+pV$$\n",
        "\n",
        "と書ける。これの全微分は\n",
        "\n",
        "(22)\n",
        "$$d\\Psi=Vdp-SdT-N_gd\\mu_g+\\mu_wdN_w$$\n",
        "\n",
        "つまり、熱力学ポテンシャルは、圧力、温度、水分子の数Nw、ガスの化学ポテンシャルμgを変数とする。(?)\n",
        "式(22)を積分すると、\n",
        "\n",
        "(23)?\n",
        "$$\\Pi=\\mu_wN_w$$\n",
        "\n",
        "を得る。\n",
        "\n",
        "さらに、水と水素の混合流体との平衡を考える。水と水素の流体中での化学ポテンシャルμw(fluid)とμg(fluid)が、それぞれハイドレート中での化学ポテンシャルμw(hydrate)とμg(hydrate)に等しいとし、さらに(21)式の圧力が、流体の圧力に等しいので、(22)式のdμg項はGIbbs-Duhemの式により、次のように書ける。\n",
        "\n",
        "(24)\n",
        "$$d\\mu_g=\\left({1-a\\over 1-ab}\\right)v_gdp-\\left(1-ac\\over 1-ab\\right)s_gdT$$\n",
        "\n",
        "(なんじゃこれは)\n",
        "\n",
        "$v_g$は流体中での1分子体積、$s_g$は1分子エントロピー。粒子密度$\\rho=N/V$、エントロピー密度$\\eta=S/V$を使って、$a,b,c$は次のように定義される。\n",
        "\n",
        "(25)\n",
        "$$a=\\rho_w^\\mathrm{(fluid)}/\\rho_w^\\mathrm{(hydrate)},$$\n",
        "$$b=\\rho_g^\\mathrm{(fluid)}/\\rho_g^\\mathrm{(hydrate)},$$\n",
        "$$c=\\eta^\\mathrm{(fluid)}/\\eta^\\mathrm{(hydrate)},$$\n",
        "\n",
        "(これを受け入れれば、)式からμgが消え、ΨはpとTとNwの関数になる。\n",
        "\n",
        "ρw〜0あるいはρw<<ρgの極限(どういう極限?)では、(aが0となり、)(24)式は単純に\n",
        "\n",
        "$$d\\mu_g=v_gdp-s_gdT$$\n",
        "\n",
        "と書ける。(ok)\n",
        "\n",
        "これを(22)に戻すと、\n",
        "\n",
        "(26)\n",
        "$$d\\Psi=Vdp-SdT-N_gd\\mu_g+\\mu_wdN_w$$\n",
        "$$=Vdp-SdT-N_g(v_gdp-s_gdT)+\\mu_wdN_w$$\n",
        "$$=(V-V_g)dp-(S-S_g)dT+\\mu_wdN_w$$\n",
        "(ok)\n",
        "\n",
        "この次の式は、田中の最近の論文、充填状態を基準とする表式。この式はひとまずとばす。"
      ]
    },
    {
      "cell_type": "markdown",
      "id": "f8655477",
      "metadata": {
        "id": "f8655477"
      },
      "source": [
        "これを導出する前に、Lukmanの式(8)に戻る。\n",
        "\n",
        "(8)\n",
        "$$\\Xi=\\exp\\left(-\\beta A_w^0\\right)\\left(1+\\exp\\left[\\beta(\\mu_g-f_g)\\right]\\right)^{\\alpha N_w}$$\n",
        "\n",
        "この式は標準的なvdWPの大分配関数。これを、体積可変に拡張し、与えられた圧力での大分配関数(一般化分配関数)とする。具体的には、重み関数を掛けて体積で積分する。(ここでいう体積Vは、クラスレートの体積。畳み込みにするという意味は、全体積と、ゲストの体積を同時最適化するということか。)\n",
        "\n",
        "(9)\n",
        "$$\\Gamma={1\\over v_0}\\int_0^\\infty \\Xi\\exp(-\\beta pV)dV$$\n",
        "\n",
        "実際には、この積分は、平衡体積$V_m$での被積分関数の値$\\Xi(V_m)\\exp(-\\beta pV_m)$におきかえられる。(うむ?重みをかけて積分して、重みが残るか??これを受けいれれば)\n",
        "\n",
        "(9.5)\n",
        "$$\\Gamma=\\Xi(V_m)\\exp(-\\beta pV_m)$$\n",
        "$$=\\exp(-\\beta A_w^0)\\exp(-\\beta pV_m)(1+\\exp[\\beta(\\mu_g-\\bar{f}_g)])^{\\alpha N_w}$$\n",
        "$$=\\exp(-\\beta G_w^0)(1+\\exp[\\beta(\\mu_g-\\bar{f}_g)])^{\\alpha N_w}$$\n",
        "\n",
        "$\\bar{f}_g$は平衡体積での$f_g$。(これもよかろう)"
      ]
    },
    {
      "cell_type": "markdown",
      "id": "f03bdd91",
      "metadata": {
        "id": "f03bdd91"
      },
      "source": [
        "さて。田中レジュメの1ページ目下方に戻る前に、自分なりの式で考える。$\\alpha$の次の項は\n",
        "\n",
        "$$\\ln[1+\\exp(\\beta(\\mu_g-f_k))]$$\n",
        "\n",
        "多重占有がなければ、対数の中身は占有率から逆算できる。まず\n",
        "\n",
        "$$x_k={\\exp(\\beta(\\mu_g-f_g))\\over 1+\\exp(\\beta(\\mu_g-f_k))}$$\n",
        "\n",
        "だから、\n",
        "\n",
        "$$\\exp(\\beta(\\mu_g-f_k))+1={1\\over 1-x_k}$$\n",
        "\n",
        "つまり、\n",
        "\n",
        "$$\\ln[1+\\exp(\\beta(\\mu_g-f_k))]=-\\ln[1-x_k]$$\n",
        "\n",
        "ちゃんとでました。\n",
        "\n",
        "これで、\n",
        "\n",
        "(A1)\n",
        "$$\\mu_w(T,p)=\\mu_c^0(T,p)+k_BT\\sum_k\\alpha_k \\ln[1-x_k(T,p)]$$\n",
        "\n",
        "が得られる。(ok)これの微分を求めたいので、温度と圧力を少し変える。\n",
        "\n",
        "$$\\mu_w(T+dT, p+dp)=\\mu_c^0(T+dT, p+dp)+k_B(T+dT)\\sum_k\\alpha_k\\ln[1-x_k(T+dT, p+dp)]$$\n",
        "\n",
        "(k_BTの次の部分は田中式から変更)\n",
        "\n",
        "左辺は全微分を使い、\n",
        "\n",
        "$$\\mu_w(T+dT, p+dp)=\\mu_w(T,p)+\\left(\\partial \\mu_w\\over \\partial T\\right)_p dT+\\left(\\partial \\mu_w\\over\\partial p\\right)_T dp$$\n",
        "$$=\\mu_w(T,p)-s_wdT+v_wdp$$\n",
        "(ok)\n",
        "\n",
        "右辺第1項は同様。\n",
        "\n",
        "$$\\mu_c^0(T+dT,p+dp)=\\mu_c^0(T,p)+\\left(\\partial \\mu_c^0\\over \\partial T\\right)_p dT+\\left(\\partial \\mu_c^0\\over\\partial p\\right)_T dp$$\n",
        "$$=\\mu_c^0(T,p)-s_c^0dT+v_c^0dp$$\n",
        "\n",
        "右辺第2項は展開する。\n",
        "\n",
        "$$k_B(T+dT)\\sum_k\\alpha_k\\ln[1-x_k(T+dT, p+dp)]=k_BT\\sum_k\\alpha_k\\ln[1-x_k(T,p)]+k_BT\\sum_k\\alpha_k\\ln[1-x_k(T+dT,p+dp)]$$\n",
        "\n",
        "さて、後ろの項の対数の部分を、なんとか展開する。\n",
        "\n",
        "$$\\ln[1-x(T+dT, p+dp)]=\\ln[1-x(T,p)]+{1\\over x-1}{\\partial x\\over\\partial T}dT+{1\\over x-1}{\\partial x\\over\\partial p}dp$$\n",
        "\n",
        "こりゃだめかも。先に$x$を置きかえてからにする。\n",
        "\n",
        "$$-\\ln(1-x)=\\ln[1+\\exp(\\beta(\\mu_g-f_k))]={\\exp A\\over 1+\\exp A}{\\partial A\\over \\partial T}$$\n",
        "\n",
        "ただし$A=\\beta(\\mu_g-f_k)$。圧力一定の場合は、$f_k$は$\\bar{f}_k$に置きかわる。\n",
        "\n",
        "だから、後ろの項は、\n",
        "\n",
        "$$k_BT\\sum_k\\alpha_k\\ln[1-x_k(T,p)]-k_BT\\sum_k\\alpha_k\\left[{\\partial A\\over\\partial T}dT+{\\partial A\\over\\partial p}dp\\right]{\\exp A\\over 1+\\exp A}$$\n",
        "\n",
        "(田中式とかなりずれてきた。しかし続ける。)\n",
        "\n",
        "$\\mu_g$を$p$で微分すると$v_g$が得られる。$v_g$はfluid内のゲストの体積\n",
        "\n",
        "$\\bar{f}_k$を$p$で微分すると$\\bar{v}_k$が得られる。$\\bar{v}_k$はケージの体積。\n",
        "\n",
        "$\\beta\\mu_g$を$T$で微分すると$-h_g/k_BT^2$が得られる。$h_g$はfluid内のゲストのエンタルピー\n",
        "\n",
        "$\\beta\\bar{f}_k$を$T$で微分すると$-\\bar{h}_k/k_BT^2$が得られる。$\\bar{h}_k$はケージ内のゲストのエンタルピー\n",
        "\n",
        "$$k_BT\\sum_k\\alpha_k\\ln[1-x_k(T,p)]-k_BT\\sum_k\\alpha\\left[-{h_g-\\bar{h}_k\\over k_BT^2}dT+{v_g-\\bar{v}_k\\over k_B T}dp\\right]x_k$$\n",
        "\n",
        "田中式に戻った。さて、全部並べてみなおす。\n",
        "\n",
        "左辺。\n",
        "$$\\mu_w(T,p)-s_wdT+v_wdp$$\n",
        "右辺\n",
        "$$\\mu_c^0(T,p)-s_c^0dT+v_c^0dp+k_BdT\\sum_k\\alpha\\ln[1-x_k(T,p)]+k_BT\\sum_k\\alpha_k\\ln[1-x_k(T,p)]-k_BT\\sum_k\\alpha_k\\left[-{h_g-\\bar{h}_k\\over k_BT^2}dT+{v_g-\\bar{v}_k\\over k_B T}dp\\right]x_k$$\n",
        "\n",
        "左右からA1式の部分を取り除くと、dTとdpの項のみが残る。\n",
        "\n",
        "$$\\left(-s_w+s_c^0-k_B\\sum_k\\alpha_k\\ln[1-x_k]-\\sum_k\\alpha_k x_k{h_g-\\bar{h}_k\\over T}\\right)dT$$\n",
        "$$=\\left(-s_w+s_c^0-k_B\\sum_k\\alpha_k\\ln[1-x_k]-k_BT\\sum_k\\alpha_k x_k{h_g-\\bar{h}_k\\over k_BT^2}\\right)dT$$\n",
        "$$=\\left(-v_w+v_c^0-\\sum_k\\alpha_k x_k(v_g-\\bar{v}_k)\\right)dp$$\n",
        "$${dp\\over dT}={-s_w+s_c^0-k_B\\sum_k\\alpha_k\\ln[1-x_k]-\\sum_k\\alpha_kx_k{h_g-\\bar{h}_k\\over T}\\over -v_w+v_c^0-\\sum_k\\alpha_k x_k(v_g-\\bar{v}_k)}$$\n",
        "\n",
        "ここで、\n",
        "\n",
        "$$\\Delta h_{gk}=\\bar{h}_k-h_g$$\n",
        "$$\\Delta v_{gk}=\\bar{v}_k-v_g$$\n",
        "$$\\Delta v_w=v_c^0-v_w$$\n",
        "$$\\Delta s_w=s_v^0-s_w$$\n",
        "\n",
        "とおくと、\n",
        "\n",
        "$${dp\\over dT}={\\Delta s_w-k_B\\sum_k\\alpha_k\\ln[1-x_k]-\\sum_k\\alpha_kx_k{\\Delta h_{gk}\\over T}\\over -v_w+v_c^0-\\sum_k\\alpha_k x_k\\Delta v_{gk}}$$\n",
        "\n",
        "田中式に一致。元の式は、与えられたp,T条件で2相が平衡になる条件を求めていた。だから、この曲線は2相が平衡になる共存線の形を表現する。\n"
      ]
    },
    {
      "cell_type": "markdown",
      "id": "5e10ea95",
      "metadata": {
        "id": "5e10ea95"
      },
      "source": [
        "## 分母が0になる条件\n",
        "\n",
        "$$\\Delta v_w+\\sum_k\\alpha_k x_k\\Delta v_{gk}=0$$\n",
        "\n",
        "全体をNw倍すると、第1項は水の体積変化。第2項は、ケージの個数×ケージあたりの分子数×分子あたりの体積変化。つまり、ゲスト分子の体積変化。これらが相殺するなら、分母は0になる。\n",
        "\n",
        "(ゲストが気体の場合は相殺しないのは自明、らしい)\n",
        "\n"
      ]
    },
    {
      "cell_type": "markdown",
      "id": "62131b6d",
      "metadata": {
        "id": "62131b6d"
      },
      "source": [
        "## 分子が0になる条件\n",
        "\n",
        "$$\\Delta s_w-k_B\\sum_k\\alpha_k\\ln[1-x_k]+\\sum_k\\alpha_k x_k{\\Delta h_{gk}\\over T}=0$$\n",
        "\n",
        "こっちはなんとなくエントロピー変化の相殺っぽい。第1項はもちろん水のエントロピー変化。第3項は相転移エントロピー。第2項はケージを選択するエントロピーっぽい。(第3項に含まれそうな気もするが)\n",
        "\n",
        "__問題は、こんな条件をみたすΔ変数の組み合わせを数値的に見付けられるかどうか。\n",
        "\n",
        "それぞれの量をどうやって計量するかを考える。__\n"
      ]
    },
    {
      "cell_type": "markdown",
      "id": "f877967b",
      "metadata": {
        "id": "f877967b"
      },
      "source": [
        "## 考察\n",
        "\n",
        "ところで、この式も分母分子がそれぞれ$\\alpha_k$の線形結合になっているので、もしかして一般化できる?\n",
        "\n",
        "異なる相の曲線が交わる場合、それは何を意味する?"
      ]
    },
    {
      "cell_type": "markdown",
      "source": [
        "# 一般化相図上の点の圧力依存性\n",
        "\n",
        "(2022-06-27)\n",
        "\n",
        "論文MT2022 では、Appendixで勾配だけを議論したが、点の移動量もけっこう簡単に表せるはず。\n",
        "\n",
        "図3の、Lociの圧力依存性について考察する。\n",
        "\n"
      ],
      "metadata": {
        "id": "ZOZlr5PP_Y0E"
      },
      "id": "ZOZlr5PP_Y0E"
    },
    {
      "cell_type": "markdown",
      "source": [
        "## 1. 大小ケージがどちらも埋まっている場合。\n",
        "\n",
        "$${\\partial Y\\over\\partial p}\\simeq \\sum_k\\left(\\alpha_k^\\mathrm{(HS-I)}-\\alpha_k^\\mathrm{(CS-II)}\\right){k_\\mathrm{B}T\\over p}$$\n",
        "$$=\\left({14\\over 80}-{24\\over 136}\\right){k_\\mathrm{B}T\\over p}$$\n",
        "$$=-{k_\\mathrm{B}T\\over 680}{1\\over p}$$\n",
        "$$Y=-{k_\\mathrm{B}T\\over 680}\\ln p+C$$\n",
        "\n",
        "圧力が変化しても、点はわずかしか動かない。圧力が増加すると、下に動く(!)実際のGPDではわずかに上に動いているように見えるので、近似がうまくなりたっていない。圧力に依存して、占有率がけっこう変動しているかも。\n"
      ],
      "metadata": {
        "id": "iDfR2Yl5_s83"
      },
      "id": "iDfR2Yl5_s83"
    },
    {
      "cell_type": "markdown",
      "source": [
        "\n",
        "## 2. 大ケージのみ埋まっている場合。\n",
        "\n",
        "$${\\partial Y\\over\\partial p}\\simeq \\sum_{k\\in\\{14,15,16\\}}\\left(\\alpha_k^\\mathrm{(HS-I)}-\\alpha_k^\\mathrm{(CS-II)}\\right){k_\\mathrm{B}T\\over p}$$\n",
        "$$=\\left({8\\over 80}-{8\\over 136}\\right){k_\\mathrm{B}T\\over p}$$\n",
        "$$={7k_\\mathrm{B}T\\over 170}{1\\over p}$$\n",
        "$$Y={7k_\\mathrm{B}T\\over 170}\\ln p+C$$\n",
        "\n",
        "小ケージが埋まっている場合に比べ28倍動く。圧力が増加すると上に動く。\n",
        "例えば、273 Kで圧力が5倍変化すると、\n",
        "$$\\Delta Y={7k_\\mathrm{B}T\\over 170}\\ln 5=150$$ \n",
        "150 kJ/molだけ上に動く。これは図3の〇と+の変位に一致する。"
      ],
      "metadata": {
        "id": "DBCnwroN_oBy"
      },
      "id": "DBCnwroN_oBy"
    },
    {
      "cell_type": "markdown",
      "source": [
        "# References\n",
        "\n",
        "* MT2022 "
      ],
      "metadata": {
        "id": "X5m58jqO_xCU"
      },
      "id": "X5m58jqO_xCU"
    },
    {
      "cell_type": "code",
      "execution_count": null,
      "id": "ca3e2fab",
      "metadata": {
        "id": "ca3e2fab"
      },
      "outputs": [],
      "source": [
        ""
      ]
    },
    {
      "cell_type": "code",
      "execution_count": null,
      "id": "b82772d3",
      "metadata": {
        "id": "b82772d3"
      },
      "outputs": [],
      "source": [
        ""
      ]
    },
    {
      "cell_type": "markdown",
      "id": "521b70a0",
      "metadata": {
        "id": "521b70a0"
      },
      "source": [
        ""
      ]
    }
  ],
  "metadata": {
    "kernelspec": {
      "display_name": "Python 3",
      "language": "python",
      "name": "python3"
    },
    "language_info": {
      "codemirror_mode": {
        "name": "ipython",
        "version": 3
      },
      "file_extension": ".py",
      "mimetype": "text/x-python",
      "name": "python",
      "nbconvert_exporter": "python",
      "pygments_lexer": "ipython3",
      "version": "3.9.13"
    },
    "colab": {
      "name": "Derivations.ipynb",
      "provenance": [],
      "toc_visible": true
    }
  },
  "nbformat": 4,
  "nbformat_minor": 5
}