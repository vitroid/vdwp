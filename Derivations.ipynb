{
  "cells": [
    {
      "cell_type": "markdown",
      "metadata": {
        "colab_type": "text",
        "id": "view-in-github"
      },
      "source": [
        "<a href=\"https://colab.research.google.com/github/vitroid/vdwp/blob/main/Derivations.ipynb\" target=\"_parent\"><img src=\"https://colab.research.google.com/assets/colab-badge.svg\" alt=\"Open In Colab\"/></a>\n"
      ]
    },
    {
      "cell_type": "markdown",
      "id": "jcUcUH63HEZd",
      "metadata": {
        "id": "jcUcUH63HEZd"
      },
      "source": [
        "(これはコピーです。原本はhttps://colab.research.google.com/github/vitroid/vdwp/blob/main/Derivations.ipynb で管理しています)\n"
      ]
    },
    {
      "cell_type": "markdown",
      "id": "9vwlN07PcsIT",
      "metadata": {
        "id": "9vwlN07PcsIT"
      },
      "source": [
        "# 2022-07-08 講義ノート\n",
        "\n",
        "## 元々の研究と、そこからの発想\n",
        "\n",
        "アミノアルコールのように、水に溶かすと発熱するのに、溶けにくいのはなぜか。理想混合であれば、エントロピーをかせげるので、相互作用の寄与がなかったとしても混ざると予想される(気体は必ず混ざる)。また、発熱があることは、混ざった状態のほうがエネルギー(エンタルピー)が低いことを示す。そうであれば、混ざらない(=混ざった状態のギブズエネルギーが高い)のは、エントロピーを激しく損失していると考えられる。希薄溶液でも発熱することから、エントロピーを失っている主体は水であると考えられる。\n",
        "\n",
        "疎水的な分子は、水を構造化させ、エントロピーを下げるのではないか。つまり、疎水分子の近傍の水は氷のような構造になっているのではないか?\n",
        "\n",
        "疎水性分子と水が結晶化するハイドレートの構造を理解したい。\n",
        "\n",
        "## van der Waals--Platteeuw の式\n",
        "\n",
        "$$g=\\mu_c+\\alpha x\\mu_g\\tag{1}$$\n",
        "\n",
        "ただし、\n",
        "\n",
        "- $\\alpha={N_\\mathrm{cage}\\over N_w}$: 結晶を構成する水分子の数に対する、結晶の中のケージ(ゲストが入れる場所)の数の比\n",
        "- $x=n/N_\\mathrm{cage}$: ケージの占有率=ケージの個数に対する、内包されたゲスト分子の個数の比\n",
        "- $\\mu_g$: ゲスト分子の化学ポテンシャル\n",
        "- $\\mu_c$: 水の化学ポテンシャル\n",
        "\n",
        "これに**Gibbs-Duhem の関係**を適用する。\n",
        "$$\\mathrm{d}\\mu_c+\\alpha x\\mathrm{d}\\mu_g=0\\tag{2}$$\n",
        "\n",
        "包接水和物へのゲスト分子の包接現象を、吸着現象とみなして、**Langmuir の等温吸着式** (吸着率を求める速度論の式)を構成する。\n",
        "\n",
        "$${\\mathrm d x\\over \\mathrm d t}=k_1p(1-x)-k_2 x\\tag{3}$$\n",
        "\n",
        "ただし、\n",
        "\n",
        "- $x$: 吸着率=吸着スポットの数に対する、吸着分子の個数\n",
        "- $p$: 吸着する気体の圧力\n",
        "- $k_1, k_2$: 速度定数; $k_1/k_2=K$とする。\n",
        "\n",
        "平衡状態では、\n",
        "\n",
        "$${\\mathrm d x\\over \\mathrm d t}=k_1p(1-x)-k_2 x=0\\tag{4}$$\n",
        "\n",
        "より、\n",
        "\n",
        "$$Kp={x\\over 1-x}\\tag{5}$$\n",
        "\n",
        "あるいは\n",
        "\n",
        "$$x={Kp\\over Kp+1}\\tag{6}$$\n",
        "\n",
        "が得られる。\n",
        "\n",
        "ここで、理想気体を想定すれば、気体の圧力と化学ポテンシャルは次の式で関連付けられる。\n",
        "\n",
        "$$\\mu=\\mu^0+kT\\ln p\\tag{7}$$\n",
        "\n",
        "あるいは\n",
        "\n",
        "$$p=\\exp {\\mu-\\mu_0\\over kT}\\tag{8}$$\n",
        "\n",
        "$$Kp=K\\exp {\\mu-\\mu_0\\over kT}=\\exp \\left[{\\mu-\\mu_0\\over kT}+\\ln K\\right]=\\exp \\left[{\\mu-f\\over kT}\\right]\\tag{9}$$\n",
        "\n",
        "と書きかえる。(?)\n",
        "\n",
        "> ${\\mu-\\mu_0\\over kT}+\\ln K = {\\mu-f\\over kT}$\n",
        ">\n",
        "> これより、$f=\\mu_0-kT\\ln K$のように$f$が定義されたことがわかる。\n",
        "\n",
        "(6)に入れると、\n",
        "\n",
        "$$x={\\exp{\\mu-f\\over kT}\\over \\exp{\\mu-f\\over kT}+1}\\tag{10}$$\n",
        "\n",
        "が得られる。$\\mu$はゲスト分子の化学ポテンシャルであり、外部の気体状態のゲスト分子と平衡にあるなら、それは気体の化学ポテンシャルと等しい。また、$f$は吸着点とゲスト分子の相互作用で定まる量である。\n",
        "\n",
        "(5)式の両辺の対数をとる。\n",
        "$$\\ln K+\\ln p=\\ln{x\\over 1-x}\\tag{11}$$\n",
        "\n",
        "さらに微分する。\n",
        "\n",
        "$$\\mathrm d\\ln p=\\mathrm d\\ln{x\\over 1-x}\\tag{12}$$\n",
        "\n",
        "そして$kT$をかける。\n",
        "\n",
        "$$kT\\mathrm d\\ln p=kT\\mathrm d\\ln{x\\over 1-x}\\tag{13}$$\n",
        "\n",
        "左辺を$\\mathrm d\\mu_g$と書く(?)と、\n",
        "\n",
        "$$\\mathrm d \\mu_g=kT{\\mathrm d x\\over x(1-x)}\\tag{14}$$\n",
        "\n",
        "> $\\mathrm d\\ln{x\\over 1-x}=\\mathrm d\\ln x-\\mathrm d\\ln(1-x)$ > $=\\left[{1\\over x}+{1\\over 1-x}\\right]\\mathrm d x={\\mathrm d x\\over x(1-x)}$\n",
        "\n",
        "ここに(2)の Gibbs-Duhem 式を入れる。\n",
        "\n",
        "$$\\mathrm d \\mu_c=-kT\\alpha {\\mathrm d x\\over 1-x}\\tag{15}$$\n",
        "\n",
        "両辺を積分すると、\n",
        "\n",
        "$$\\mu_c=\\mu_c^0+kT\\alpha \\ln(1-x)\\tag{16}$$\n",
        "\n",
        "が得られる。\n",
        "\n",
        "- $\\mu_c^0$: ゲストが存在しない、空の格子の水の化学ポテンシャル\n",
        "\n",
        "## 2 種類以上のケージがある場合\n",
        "\n",
        "$$Z_\\mathrm{trial}=\\prod_j {}_{N_j}\\mathrm C_{n_j}\\exp\\left(-{n_jf_j\\over kT}\\right) \\tag{17}$$\n",
        "\n",
        "拘束条件: $n=\\sum_jn_j$\n",
        "\n",
        "- $Z_\\mathrm{trial}$: 未知パラメータの値に対して最大化したい「分配関数」\n",
        "- $j$: ケージの種類\n",
        "- ${}_{N_j}\\mathrm C_{n_j}$: $N_j$個のケージに、$n_j$個のゲスト分子を入れる場合の数\n",
        "- $f_j$: ゲスト分子 1 つが$j$タイプのケージに入る場合の自由エネルギー\n",
        "\n",
        "これから、$\\Phi(T, V, N_w, \\mu)$を求めたい。これは、上の拘束条件のもとで、$A(T, V, N_w, n)$を最小化することで得られる。\n",
        "\n",
        "$$-A/kT=t=\\ln Z_\\mathrm{trial}=\\sum_j\\left[N_j\\ln N_j - (N_j-n_j)\\ln (N_j-n_j)-n_j\\ln n_j -{n_jf_j\\over kT}\\right]\\tag{18}$$\n",
        "\n",
        "$t$が最大になるように$n_j$を調節する。\n",
        "\n",
        "$${\\partial t\\over \\partial n_j}=0\\tag{19}$$\n",
        "\n",
        "$$\\ln(N_j-n_j)-\\ln n_j-{f_j\\over kT}=0\\tag{20}$$\n",
        "\n",
        "これに拘束条件からくる項を付加する。(未定乗数法)\n",
        "\n",
        "$${\\partial \\left[t+B(\\sum_j n_j - n)\\right]\\over \\partial n_j}=0\\tag{21}$$\n",
        "$$\\ln(N_j-n_j)-\\ln n_j-{f_j\\over kT}+B=0\\tag{22}$$\n",
        "\n",
        "式変形(?)\n",
        "\n",
        "$$\\ln{N_j-n_j\\over n_j}={\\mu-f_j\\over kT}\\tag{23}$$\n",
        "\n",
        "$$x_j={\\exp{\\mu-f_j\\over kT}\\over\\exp{\\mu-f_j\\over kT}+1}\\tag{24}$$\n",
        "\n",
        "こうして得られた$Z$を使い、$\\Phi$の式を書き下すと、\n",
        "\n",
        "$$A=-kT\\ln Z=A^0(T, V, N_w)+kTN_w\\sum_j\\alpha_j\\left[{x_jf_j\\over kT}+(1-x_j)\\ln(1-x_j)+x_j\\ln x_j\\right]\\tag{25}$$\n",
        "\n",
        "$A^0$は空の格子のヘルムホルツエネルギー、$[]$内の初項はケージとゲストとの相互作用、残りの項は理想混合のエントロピー。\n",
        "\n",
        "- $N_w$: 水分子数\n",
        "- $N_w\\alpha_j$ タイプ$j$のケージ数\n",
        "- $N_w\\alpha_jx_j$ タイプ$j$のケージに入っているゲスト分子数\n",
        "\n",
        "これをギブズエネルギー$G$に変換する。(?)\n",
        "\n",
        "$$G(T,p,N_w,n)=G^0(T,p,N_w)+n\\mu+kTN_w\\sum_j\\alpha_j\\ln(1-x_j)\\tag{26}$$\n",
        "\n",
        "> (25)に(24)を入れると出る?らしい。\n"
      ]
    },
    {
      "cell_type": "markdown",
      "id": "GvfxElCJP8Yf",
      "metadata": {
        "id": "GvfxElCJP8Yf"
      },
      "source": [
        "# 2022-07-15 講義ノート 2\n",
        "\n",
        "包接水和物の安定性を評価する計算のなかで、$\\mu_g$, $\\mu_c$, $\\mu_w$などの量が必要になる。\n",
        "\n",
        "- $\\mu_g$: ゲスト(気体)の化学ポテンシャル\n",
        "- $\\mu_c$: クラスレート(結晶)の化学ポテンシャル\n",
        "- $\\mu_w$: 水(液体)の化学ポテンシャル\n",
        "\n",
        "それぞれ、異なるルートで計算する。\n",
        "\n",
        "> (注)統計力学屋としては、実験値に頼らず理論のみでこれらの値を計算したい。\n"
      ]
    },
    {
      "cell_type": "markdown",
      "id": "Sqc3qBJGQzzJ",
      "metadata": {
        "id": "Sqc3qBJGQzzJ"
      },
      "source": [
        "## 2.1 気体\n",
        "\n",
        "包接水和物にとりこまれたゲスト分子は、(どうやって出入りできるかはともかく)外部の気体状態のゲストと平衡状態にある。つまり、これらは化学ポテンシャルが等しいので、後者が計算できれば、前者も自動的に手に入る。\n",
        "\n",
        "ここではゲスト気体は理想気体であると考える。\n",
        "\n",
        "理想気体分子は、相互作用しないので、個々の分子を別個にとりあつかって構わない。\n",
        "\n",
        "特に、ネオンやアルゴンのような単原子分子は、回転自由度すらも考える必要がない。\n",
        "\n",
        "分子の個性は$m$のみ。\n"
      ]
    },
    {
      "cell_type": "markdown",
      "id": "_rG4R-PjWPBB",
      "metadata": {
        "id": "_rG4R-PjWPBB"
      },
      "source": [
        "### 2.1.1 古典力学での分配関数の算出\n",
        "\n",
        "理想気体分子は相互作用しないので、ハミルトニアンは運動エネルギーのみからなる。\n",
        "\n",
        "- 1 分子ハミルトニアン\n",
        "\n",
        "$$H_1={\\mathbf p^2\\over m}\\tag{2.1.1.1}$$\n",
        "\n",
        "- 全分子のハミルトニアン\n",
        "  $$H=\\sum_i H_i=\\sum_i{\\mathbf p_i^2\\over m}\\tag{2.1.1.2}$$\n",
        "\n",
        "$\\mathbf p_i=m\\mathbf v_i$は分子$i$の運動量。\n",
        "\n",
        "分子分配関数は次のように書ける。\n",
        "\n",
        "$$z={1\\over h^3}\\iint e^{-{H_1\\over kT}}\\mathrm d\\mathbf r\\mathrm d\\mathbf p\\tag{2.1.1.3}$$\n",
        "\n",
        "全分子の分配関数$Z$は、分子分配関数$z$の積として次のように書ける。\n",
        "\n",
        "$$Z={z^N\\over N!}\\tag{2.1.1.4}$$\n",
        "\n",
        "> - $N!$の由来は後述。\n",
        "> - $h$: 分配関数$z$はあとで Helmholtz エネルギーを計算する際には指数関数の中に入るので、$z$は無次元量でなければならない。分配関数の中の指数関数は無次元、積分変数$\\mathrm d\\mathbf r\\mathrm d\\mathbf p$と同じ単位をもつてきとうな係数を分子に入れておく。(あとで、量子力学と整合させる時に、$h$がプランク定数であることがわかる。)\n",
        "\n",
        "$H_1$は位置に依存しないので、分子分配関数の位置$\\mathbf r$に関する積分を先に実行する。\n",
        "\n",
        "$$z={V^3\\over h^3}\\int e^{-{\\mathbf p^2\\over 2mkT}}\\mathrm d\\mathbf p\\tag{2.1.1.5}$$\n",
        "\n",
        "$\\mathbf p^2=p_x^2+p_y^2+p_z^2$、ガウス積分$\\int_{-\\infty}^\\infty \\exp(-\\alpha x^2)\\mathrm dx=\\sqrt{\\pi\\over \\alpha}$を利用し、運動量の 3 軸成分でそれぞれ積分すると、\n",
        "\n",
        "$$z={V\\over h^3}(2\\pi mkT)^{3\\over 2} \\tag{2.1.1.6}$$\n",
        "\n",
        "$$Z={V^N\\over N!h^{3N}}(2\\pi mkT)^{3N\\over 2}\\tag{2.1.1.7}$$\n",
        "\n",
        "が得られる。\n"
      ]
    },
    {
      "cell_type": "markdown",
      "id": "hoNjCrOYWXm_",
      "metadata": {
        "id": "hoNjCrOYWXm_"
      },
      "source": [
        "### 2.1.2 量子力学での分配関数の算出\n",
        "\n",
        "一次元の箱に閉じこめられた粒子のエネルギー準位は、\n",
        "\n",
        "$$\\epsilon_n={n^2h^2\\over 8mL^2}\\tag{2.1.2.1}$$\n",
        "\n",
        "すべての状態を考えて分子分配関数は次のように求められる。\n",
        "\n",
        "$$z_1=\\sum_{n=1}^\\infty e^{-{\\epsilon_n\\over kT}}=\\sum_{n=1}^\\infty e^{-{n^2h^2\\over 8mL^2kT}}\\tag{2.1.2.2}$$\n",
        "$$=\\int_0^\\infty e^{-{n^2h^2\\over 8mL^2kT}}\\mathrm d n$$\n",
        "$$={\\sqrt{8mL^2kT\\pi}\\over 2h}\\tag{2.1.2.3}$$\n",
        "$$={L\\sqrt{2mkT\\pi}\\over h}\\tag{2.1.2.4}$$\n",
        "\n",
        "3 次元の箱であればこの 3 乗になる。\n",
        "\n",
        "$$ z=({2mkT\\pi})^{3/2}{V\\over h^3}\\tag{2.1.2.5}$$\n",
        "\n",
        "古典力学からの導出と一致した。\n",
        "\n",
        "> (注)並進に関しては量子力学と古典力学で違いがない。\n"
      ]
    },
    {
      "cell_type": "markdown",
      "id": "Iati0m5rZn2f",
      "metadata": {
        "id": "Iati0m5rZn2f"
      },
      "source": [
        "### 2.1.3 $N!$に関する考察\n",
        "\n",
        "2 つの粒子が、3 つの状態のいずれかになるとき、その状態数はいくつか。\n"
      ]
    },
    {
      "cell_type": "markdown",
      "id": "wQ0MDfg9Z4IT",
      "metadata": {
        "id": "wQ0MDfg9Z4IT"
      },
      "source": [
        "#### 2.1.3.1 Bose-Einstein 統計の場合\n",
        "\n",
        "いくつもの粒子が同じ状態になれる。2 つの粒子が異なる状態をとる組みあわせは 3 通り、同じ状態をとる組みあわせも 3 通り、あわせて 6 通りの状態がありうる。状態数は$N$。\n"
      ]
    },
    {
      "cell_type": "markdown",
      "id": "BOR7W8I3aPcv",
      "metadata": {
        "id": "BOR7W8I3aPcv"
      },
      "source": [
        "#### 2.1.3.2 Fermi-Dirac 統計の場合\n",
        "\n",
        "2 つ以上の粒子が同じ状態をとることは禁じられているので、状態数は 3 通り。\n"
      ]
    },
    {
      "cell_type": "markdown",
      "id": "QtdGGNR5aecK",
      "metadata": {
        "id": "QtdGGNR5aecK"
      },
      "source": [
        "#### Boltzmann 統計の取り扱い\n",
        "\n",
        "2 つの粒子が独立に 3 つの状態を選ぶ場合の数は$3^2=9$通り。あとから$N$個の粒子が区別できないと考え、これを$N!$で割って状態数は 4.5 通り。\n",
        "\n",
        "Bose-Einstein 統計との違いは、状態数が増えれば無視できるようになる。\n"
      ]
    },
    {
      "cell_type": "markdown",
      "id": "eGaBRkFxbZGN",
      "metadata": {
        "id": "eGaBRkFxbZGN"
      },
      "source": [
        "### 2.1.4 熱力学との接続\n",
        "\n",
        "分配関数と Helmholtz エネルギーの関係\n",
        "\n",
        "$$A=-kT\\ln Z\\tag{2.1.4.1}$$\n",
        "\n",
        "これに気体の分配関数を代入すると、\n",
        "\n",
        "$$A=NkT\\left(\\ln \\rho \\lambda^3-1\\right)\\tag{2.1.4.2}$$\n",
        "\n",
        "ただし、$\\lambda={h\\over\\sqrt{2\\pi mkT}}$は de Broglie 波長、$\\rho=N/V$は数密度。\n",
        "\n",
        "$A$を$V$で微分すると圧力が得られる。\n",
        "\n",
        "$$p=-\\left({\\partial A\\over\\partial V}\\right)_{T, N}={NkT\\over V}\\tag{2.1.4.3}$$\n",
        "\n",
        "これは理想気体の状態方程式。\n",
        "\n",
        "> 分配関数の定義の中に$N!$をもし入れなかったとしたら(つまり分子が区別できるとしたら)、Helmholtz エネルギーは示量変数にならない。\n",
        "\n",
        "次に化学ポテンシャルを求める。\n",
        "\n",
        "$$\\mu={\\partial A\\over\\partial N}={\\partial\\over \\partial N}\\left[NkT\\left(\\ln {N\\over V}\\lambda^3-1\\right)\\right]\\tag{2.1.4.4}$$\n",
        "$$=kT\\ln \\rho\\lambda^3$$\n",
        "\n",
        "また、Gibbs エネルギーは熱力学の定義より\n",
        "\n",
        "$$G=A+pV=NkT\\left(\\ln \\rho \\lambda^3-1\\right)+NkT\\tag{2.1.4.5}$$\n",
        "$$=NkT\\ln \\rho \\lambda^3\\tag{2.1.4.6}$$\n",
        "\n",
        "これは$N\\mu$に一致する。つまり、「一成分系では」ギブズエネルギーを分子数で割ると化学ポテンシャルが得られる。\n",
        "\n",
        "> (注)多成分系ではこう簡単にはいかない。\n",
        "\n",
        "こうして、気体の化学ポテンシャル$\\mu_g$が求められた。\n"
      ]
    },
    {
      "cell_type": "markdown",
      "id": "f1KIOip7e1V3",
      "metadata": {
        "id": "f1KIOip7e1V3"
      },
      "source": [
        "## 2.2 固体\n",
        "\n",
        "固体は多数の原子から構成されていて、いきなり分配関数を書き下せないので、ごく少数の原子からなる状態から考えていく。\n"
      ]
    },
    {
      "cell_type": "markdown",
      "id": "nWT8muGmIWwH",
      "metadata": {
        "id": "nWT8muGmIWwH"
      },
      "source": [
        "### 2.2.1 単一の質点の振動\n",
        "\n",
        "一分子がバネ定数$K$のバネにつながれていると考える。(あるいは、一分子が下に凸な力場にとらえられていると考える)。\n",
        "\n",
        "> 振幅が小さければ、調和振動子と考えて構わない。\n",
        "\n",
        "調和振動子(パネに結びつけられた質点)の運動方程式\n",
        "\n",
        "$$m{\\mathrm d^2x\\over\\mathrm d t^2}=-Kx\\tag{2.2.1.1}$$\n",
        "\n",
        "高校物理で習う(?)ように、この振動数は\n",
        "\n",
        "$$(2\\pi\\nu)^2=\\omega^2={K\\over m}\\tag{2.2.1.2}$$\n",
        "\n",
        "- $\\nu$: 振動数\n",
        "- $\\omega=2\\pi\\nu$: 角振動数\n",
        "- $m$: 質量\n"
      ]
    },
    {
      "cell_type": "markdown",
      "id": "vHxZv9q1IL3t",
      "metadata": {
        "id": "vHxZv9q1IL3t"
      },
      "source": [
        "#### 2.2.1.1 古典力学での分配関数の算出\n",
        "\n",
        "この系の古典力学的ハミルトニアンは\n",
        "\n",
        "$$H={p^2\\over 2m}+{kx^2\\over 2}$$\n",
        "$$={p^2\\over 2m}+2m(\\pi\\nu x)^2$$\n",
        "\n",
        "> (注) こんどは第二項にポテンシャルエネルギーが含まれている。\n",
        "\n",
        "Poisson の関係(だったかな?)より、\n",
        "\n",
        "$$f=\\dot p=-{\\partial H\\over \\partial x}=-Kx$$\n",
        "\n",
        "分配関数を書いてみる。\n",
        "\n",
        "> 1 粒子、1 自由度なので簡単!\n",
        "\n",
        "$$Z={1\\over h}\\iint e^{-{H\\over kT}}\\mathrm dp\\mathrm dx$$\n",
        "$$={1\\over h}\\int_{-\\infty}^{\\infty}e^{-{p^2\\over 2mkT}}\\mathrm dp\\int_{-\\infty}^{\\infty}e^{-{2m\\pi^2\\nu^2x^2\\over kT}}\\mathrm dx$$\n",
        "$$={1\\over h}\\sqrt{2\\pi mkT}\\sqrt{kT\\over 2m\\pi\\nu^2}$$\n",
        "$$={kT\\over h\\nu}$$\n",
        "\n",
        "Helmholtz エネルギーは、\n",
        "\n",
        "$$A=-kT\\ln Z=kT\\ln{h\\nu\\over kT}$$\n"
      ]
    },
    {
      "cell_type": "markdown",
      "id": "eHty5J0LIcsI",
      "metadata": {
        "id": "eHty5J0LIcsI"
      },
      "source": [
        "#### 2.2.1.2 量子力学での分配関数の算出\n",
        "\n",
        "調和振動子のエネルギー準位は、次のように等間隔になる(ことはすでに量子力学で習っているはず)。\n",
        "\n",
        "$$\\epsilon_n=\\left(n+{1\\over 2}\\right)h\\nu$$\n",
        "\n",
        "分配関数は、\n",
        "\n",
        "$$Z=\\sum_{n=0}^\\infty e^{-\\left({n+{1\\over 2}}\\right)h\\nu\\over kT}$$\n",
        "$$=e^{-{h\\nu\\over 2kT}}\\sum_{n=0}^\\infty e^{-{n h\\nu\\over kT}}$$\n",
        "$$={e^{-{h\\nu\\over 2kT}}\\over 1-e^{-{h\\nu\\over kT}}}$$\n",
        "\n",
        "Helmholtz エネルギーは\n",
        "\n",
        "$$A={h\\nu\\over 2}+kT\\ln\\left(1-e^{-{h\\nu\\over kT}}\\right)$$\n",
        "\n",
        "初項は零点エネルギー。\n",
        "\n",
        "高温では、$1-e^{-x}=1-(1-x+{x^2\\over 2!}-{x^3\\over 3!}+\\cdots)\\simeq x$\n",
        "\n",
        "と書けるので、$A$は古典力学の結果と一致する。(零点エネルギーを除いて)\n",
        "\n",
        "$$A={h\\nu\\over 2}+kT\\ln{h\\nu\\over kT}$$\n",
        "\n",
        "> (注)固体では、古典力学と量子力学に違いが生じる。\n"
      ]
    },
    {
      "cell_type": "markdown",
      "id": "jwxMuFe4LkLT",
      "metadata": {
        "id": "jwxMuFe4LkLT"
      },
      "source": [
        "### 2.2.2 連成振動子の場合\n",
        "\n",
        "連成振動子とは、いくつもの質点がバネでつながったもの。それぞれの振動の振動数を$\\nu_i$とする。\n",
        "\n",
        "問: Helmholtz エネルギーは単純に$A=-kT\\sum_i\\ln {h\\nu_i\\over kT}$でよいのか?? 分配関数のなかに、$N!$を含めなくていいのか?\n",
        "\n",
        "【計算をすすめる上での前提】\n",
        "\n",
        "- 温度が低い時は、ポテンシャルエネルギー面の底の形は放物面(２次曲面)で表現してさしつかえないだろう。\n",
        "\n",
        "- $N$自由度の連成振動は、$N$次元の放物面上の運動と考えていいだろう。\n",
        "\n",
        "- 連成振動のポテンシャルエネルギー面$V$は、次のような、変位の二次の形で書けるだろう。ただし、曲面の形は、うまいぐあいに$x,y,z$などの軸方向に向いているとは限らない。(右辺第 4 項のような交差項を含む)\n",
        "\n",
        "$$U(x, y, z, \\cdots)=U_\\mathrm{min}+a(x-x_0)^2+b(y-y_0)^2+c(x-x_0)(y-y_0)+\\cdots$$\n",
        "\n",
        "- ポテンシャルエネルギーの極小付近では、一次の項(勾配)は無視できる。\n",
        "\n",
        "ポテンシャルエネルギーを二階微分することで、ある粒子が受ける力$F_j$が求められる。\n",
        "\n",
        "(2.2.2.1)\n",
        "$$F_j=-\\sum_i{\\partial^2 V\\over \\partial x_i\\partial x_j}$$\n",
        "\n",
        "${\\partial^2 V\\over \\partial x_i\\partial x_j}$を$H_{ij}$と書く。(ヘッセ行列、ヘシアン)\n",
        "\n",
        "> (注)当然$H_{ij}=H_{ji}$\n",
        "\n",
        "運動方程式にこれを入れると、(太字はベクトル)\n",
        "\n",
        "(2.2.2.2)\n",
        "$$m{\\mathrm d^2\\mathbf r\\over\\mathrm d t^2}=\\mathbf F=-H\\cdot \\mathbf r$$\n",
        "\n",
        "> (注) すべての粒子の座標$\\mathbf r$がわかり、$H$のすべての要素がわかれば右辺が計算でき、個々の粒子が受ける力$\\mathbf F$が計算でき、加速度が得られて座標の時間発展が計算できる。\n",
        "\n",
        "ここで、$\\mathbf r$は粒子の座標、$\\mathbf F$も同様。\n",
        "\n",
        "(2.2.2.3)\n",
        "$$\\mathbf r=\\left(\\begin{matrix}x_1\\\\y_1\\\\z_1\\\\x_2\\\\y_2\\\\z_2\\\\ \\vdots\\end{matrix}\\right)$$\n",
        "\n",
        "ヘシアンは$3N\\times 3N$の行列である。\n",
        "\n",
        "理解しやすくするために、問題を 2 変数にすると、(2.2.2.3)は、\n",
        "$$m{\\mathrm d^2 x\\over\\mathrm d t^2}=-{H_{11}x+H_{12}y}\\tag{2.2.2.4}$$\n",
        "$$m{\\mathrm d^2 y\\over\\mathrm d t^2}=-{H_{21}x+H_{22}y}\\tag{2.2.2.5}$$\n",
        "のように書ける。\n",
        "\n",
        "ここで、うまい座標変換をして、$(x,y)$を$(x', y')$とおきかえると、\n",
        "$$m{\\mathrm d^2 x'\\over\\mathrm d t^2}=-H'_{11}x'\\tag{2.2.2.6}$$\n",
        "$$m{\\mathrm d^2 y'\\over\\mathrm d t^2}=-H'_{22}y'\\tag{2.2.2.7}$$\n",
        "のように、$x'$と$y'$を独立にすることが可能なはずである。\n",
        "\n",
        "> (注)このように変数をとりなおせば、ヘッセ行列は対角項しか計算する必要がなくなるし、変数はそれぞれが独立になるので、分配関数の計算はただのかけ算にできるし、ヘッセ行列の対角項は角振動数と結びつくし、一石多鳥である。\n",
        "\n",
        "そこで、この変換のために、次のような式変形を行う。\n",
        "\n",
        "1. まず、質量$m$がわずらわしいので、これを消すように変数変換を行う。(質量で重みづけした座標系)(2.2.2.2)式は\n",
        "\n",
        "$$m^{1/2}\\mathbf{\\ddot r}=-m^{-1/2}Hm^{-1/2}m^{1/2}\\mathbf r\\tag{2.2.2.8}$$\n",
        "\n",
        "$m^{1/2}\\mathbf r=\\mathbf r'$、$m^{-1/2}Hm^{-1/2}=H'$と置きなおすと、(2.2.2.8)は\n",
        "\n",
        "$$\\mathbf {\\ddot r}'=-H'\\mathbf r'\\tag{2.2.2.9}$$\n",
        "\n",
        "> ${\\ddot ~}$は時間での二階微分。\n",
        "\n",
        "2. 次に$U^\\dagger HU$が対角行列になるような、適当なユニタリ行列$U$をさがす。\n",
        "\n",
        "> (注)ユニタリ行列$U$は、$U U^\\dagger=I$という性質をもっている。ただし$U^\\dagger$は$U$の随伴行列(転置した共役行列)。$U$は$H$を対角化する手続きのなかで自動的に決定される行列で、$H$の固有ベクトルから構成される。また、対角化されてできる行列$\\Lambda_d=U^\\dagger HU$の対角項は、$H$の固有値である。\n",
        "\n",
        "$$U^\\dagger \\mathbf {\\ddot r}'=-U^\\dagger H'U U^\\dagger \\mathbf r'\\tag{2.2.2.10}$$\n",
        "\n",
        "そして、$U^\\dagger \\mathbf r'$を新しい座標系$\\mathbf q$、$U^\\dagger H'U$を新しいヘシアン$\\Lambda_d$とすると、\n",
        "\n",
        "$$\\mathbf{\\ddot q}=\\Lambda_d\\mathbf q\\tag{2.2.2.11}$$\n",
        "\n",
        "で、かつヘシアンが対角行列になっているので、(2.2.2.11)は要素ごとに分割できる。\n",
        "\n",
        "$$\\ddot q_i=\\Lambda_{ii}q_i\\tag{2.2.2.12}$$\n",
        "\n",
        "(2.2.1.2)との比較から、$\\Lambda_{ii}=\\omega_i^2$は、ベクトル$q_i$方向の振動の角振動数を表していることがわかる。\n",
        "\n",
        "こうして、無事に連成振動を独立な振動に分割できた。\n",
        "\n",
        "> (注)これらの独立な振動を固有振動あるいは規準振動と呼ぶ。\n",
        "\n",
        "規準振動から、固体の振動に関する Helmholtz エネルギー$A_\\mathrm{vib}$は次のように求められる。\n",
        "\n",
        "$$A_\\mathrm{vib}=-kT\\sum_i\\ln {h\\nu_i\\over kT}\\tag{2.2.2.13}$$\n",
        "\n",
        "全 Helmholtz エネルギーは、これにポテンシャルエネルギーの極小値$U_\\mathrm{min}$を加えて、次のように書ける。\n",
        "\n",
        "$$A=U_\\mathrm{min}+A_\\mathrm{vib}\\tag{2.2.2.14}$$\n",
        "\n",
        "右辺の 2 項はどちらも体積に依存する。\n",
        "\n",
        "> 体積が変わり、結晶が変形すれば、ポテンシャルエネルギーも振動のしかたも変わる。\n",
        "\n",
        "また、第 2 項$A_\\mathrm{vib}$は温度にも依存する。\n",
        "\n",
        "> 固体の熱膨張には後者が寄与している。熱膨張率のような物性値も、理論的に予測できる。氷は極低温で負の膨張率を示すことが理論的に示される。(Tanaka 1998)\n"
      ]
    },
    {
      "cell_type": "markdown",
      "id": "HJat19ZIaaap",
      "metadata": {
        "id": "HJat19ZIaaap"
      },
      "source": [
        "## References\n",
        "\n",
        "- [Tanaka 1998](http://dx.doi.org/10.1063/1.475897) Tanaka, H. Thermodynamic stability and negative thermal expansion of hexagonal and cubic ices. J. Chem. Phys. 108, 4887–4893 (1998).\n"
      ]
    },
    {
      "cell_type": "markdown",
      "id": "_0xDbWThIAfC",
      "metadata": {
        "id": "_0xDbWThIAfC"
      },
      "source": [
        "# 以下は別の論文の読解\n"
      ]
    },
    {
      "cell_type": "markdown",
      "id": "75136325",
      "metadata": {
        "id": "75136325"
      },
      "source": [
        "## 田中式の導出\n",
        "\n",
        "高圧の場合、圧力による体積変化が無視できない。(低圧のほうは無視してもよいはず。あとで考える。)\n",
        "その場合、熱力学ポテンシャルは、\n",
        "\n",
        "$$\\Psi=\\Phi+pV\\tag{21}$$\n",
        "\n",
        "と書ける。これの全微分は\n",
        "\n",
        "$$d\\Psi=Vdp-SdT-N_gd\\mu_g+\\mu_wdN_w\\tag{22}$$\n",
        "\n",
        "つまり、熱力学ポテンシャルは、圧力、温度、水分子の数 Nw、ガスの化学ポテンシャル μg を変数とする。(?)\n",
        "式(22)を積分すると、\n",
        "\n",
        "$$\\Pi=\\mu_wN_w\\tag{23}$$\n",
        "\n",
        "を得る。\n",
        "\n",
        "さらに、水と水素の混合流体との平衡を考える。水と水素の流体中での化学ポテンシャル μw(fluid)と μg(fluid)が、それぞれハイドレート中での化学ポテンシャル μw(hydrate)と μg(hydrate)に等しいとし、さらに(21)式の圧力が、流体の圧力に等しいので、(22)式の dμg 項は GIbbs-Duhem の式により、次のように書ける。\n",
        "\n",
        "$$d\\mu_g=\\left({1-a\\over 1-ab}\\right)v_gdp-\\left(1-ac\\over 1-ab\\right)s_gdT\\tag{24}$$\n",
        "\n",
        "(なんじゃこれは)\n",
        "\n",
        "$v_g$は流体中での 1 分子体積、$s_g$は 1 分子エントロピー。粒子密度$\\rho=N/V$、エントロピー密度$\\eta=S/V$を使って、$a,b,c$は次のように定義される。\n",
        "\n",
        "$$a=\\rho_w^\\mathrm{(fluid)}/\\rho_w^\\mathrm{(hydrate)},\\tag{25}$$\n",
        "$$b=\\rho_g^\\mathrm{(fluid)}/\\rho_g^\\mathrm{(hydrate)},$$\n",
        "$$c=\\eta^\\mathrm{(fluid)}/\\eta^\\mathrm{(hydrate)},$$\n",
        "\n",
        "(これを受け入れれば、)式から μg が消え、Ψ は p と T と Nw の関数になる。\n",
        "\n",
        "ρw〜0 あるいは ρw<<ρg の極限(どういう極限?)では、(a が 0 となり、)(24)式は単純に\n",
        "\n",
        "$$d\\mu_g=v_gdp-s_gdT$$\n",
        "\n",
        "と書ける。(ok)\n",
        "\n",
        "これを(22)に戻すと、\n",
        "\n",
        "$$d\\Psi=Vdp-SdT-N_gd\\mu_g+\\mu_wdN_w\\tag{26}$$\n",
        "$$=Vdp-SdT-N_g(v_gdp-s_gdT)+\\mu_wdN_w$$\n",
        "$$=(V-V_g)dp-(S-S_g)dT+\\mu_wdN_w$$\n",
        "(ok)\n",
        "\n",
        "この次の式は、田中の最近の論文、充填状態を基準とする表式。この式はひとまずとばす。\n"
      ]
    },
    {
      "cell_type": "markdown",
      "id": "f8655477",
      "metadata": {
        "id": "f8655477"
      },
      "source": [
        "これを導出する前に、Lukman の式(8)に戻る。\n",
        "\n",
        "$$\\Xi=\\exp\\left(-\\beta A_w^0\\right)\\left(1+\\exp\\left[\\beta(\\mu_g-f_g)\\right]\\right)^{\\alpha N_w}\\tag{8}$$\n",
        "\n",
        "この式は標準的な vdWP の大分配関数。これを、体積可変に拡張し、与えられた圧力での大分配関数(一般化分配関数)とする。具体的には、重み関数を掛けて体積で積分する。(ここでいう体積 V は、クラスレートの体積。畳み込みにするという意味は、全体積と、ゲストの体積を同時最適化するということか。)\n",
        "\n",
        "$$\\Gamma={1\\over v_0}\\int_0^\\infty \\Xi\\exp(-\\beta pV)dV\\tag{9}$$\n",
        "\n",
        "実際には、この積分は、平衡体積$V_m$での被積分関数の値$\\Xi(V_m)\\exp(-\\beta pV_m)$におきかえられる。(うむ?重みをかけて積分して、重みが残るか??これを受けいれれば)\n",
        "\n",
        "$$\\Gamma=\\Xi(V_m)\\exp(-\\beta pV_m)\\tag{9.5}$$\n",
        "$$=\\exp(-\\beta A_w^0)\\exp(-\\beta pV_m)(1+\\exp[\\beta(\\mu_g-\\bar{f}_g)])^{\\alpha N_w}$$\n",
        "$$=\\exp(-\\beta G_w^0)(1+\\exp[\\beta(\\mu_g-\\bar{f}_g)])^{\\alpha N_w}$$\n",
        "\n",
        "$\\bar{f}_g$は平衡体積での$f_g$。(これもよかろう)\n"
      ]
    },
    {
      "cell_type": "markdown",
      "id": "f03bdd91",
      "metadata": {
        "id": "f03bdd91"
      },
      "source": [
        "さて。田中レジュメの 1 ページ目下方に戻る前に、自分なりの式で考える。$\\alpha$の次の項は\n",
        "\n",
        "$$\\ln[1+\\exp(\\beta(\\mu_g-f_k))]$$\n",
        "\n",
        "多重占有がなければ、対数の中身は占有率から逆算できる。まず\n",
        "\n",
        "$$x_k={\\exp(\\beta(\\mu_g-f_g))\\over 1+\\exp(\\beta(\\mu_g-f_k))}$$\n",
        "\n",
        "だから、\n",
        "\n",
        "$$\\exp(\\beta(\\mu_g-f_k))+1={1\\over 1-x_k}$$\n",
        "\n",
        "つまり、\n",
        "\n",
        "$$\\ln[1+\\exp(\\beta(\\mu_g-f_k))]=-\\ln[1-x_k]$$\n",
        "\n",
        "ちゃんとでました。\n",
        "\n",
        "これで、\n",
        "\n",
        "$$\\mu_w(T,p)=\\mu_c^0(T,p)+k_BT\\sum_k\\alpha_k \\ln[1-x_k(T,p)]\\tag{A1}$$\n",
        "\n",
        "が得られる。(ok)これの微分を求めたいので、温度と圧力を少し変える。\n",
        "\n",
        "$$\\mu_w(T+dT, p+dp)=\\mu_c^0(T+dT, p+dp)+k_B(T+dT)\\sum_k\\alpha_k\\ln[1-x_k(T+dT, p+dp)]$$\n",
        "\n",
        "(k_BT の次の部分は田中式から変更)\n",
        "\n",
        "左辺は全微分を使い、\n",
        "\n",
        "$$\\mu_w(T+dT, p+dp)=\\mu_w(T,p)+\\left(\\partial \\mu_w\\over \\partial T\\right)_p dT+\\left(\\partial \\mu_w\\over\\partial p\\right)_T dp$$\n",
        "$$=\\mu_w(T,p)-s_wdT+v_wdp$$\n",
        "(ok)\n",
        "\n",
        "右辺第 1 項は同様。\n",
        "\n",
        "$$\\mu_c^0(T+dT,p+dp)=\\mu_c^0(T,p)+\\left(\\partial \\mu_c^0\\over \\partial T\\right)_p dT+\\left(\\partial \\mu_c^0\\over\\partial p\\right)_T dp$$\n",
        "$$=\\mu_c^0(T,p)-s_c^0dT+v_c^0dp$$\n",
        "\n",
        "右辺第 2 項は展開する。\n",
        "\n",
        "$$k_B(T+dT)\\sum_k\\alpha_k\\ln[1-x_k(T+dT, p+dp)]=k_BT\\sum_k\\alpha_k\\ln[1-x_k(T,p)]+k_BT\\sum_k\\alpha_k\\ln[1-x_k(T+dT,p+dp)]$$\n",
        "\n",
        "さて、後ろの項の対数の部分を、なんとか展開する。\n",
        "\n",
        "$$\\ln[1-x(T+dT, p+dp)]=\\ln[1-x(T,p)]+{1\\over x-1}{\\partial x\\over\\partial T}dT+{1\\over x-1}{\\partial x\\over\\partial p}dp$$\n",
        "\n",
        "こりゃだめかも。先に$x$を置きかえてからにする。\n",
        "\n",
        "$$-\\ln(1-x)=\\ln[1+\\exp(\\beta(\\mu_g-f_k))]={\\exp A\\over 1+\\exp A}{\\partial A\\over \\partial T}$$\n",
        "\n",
        "ただし$A=\\beta(\\mu_g-f_k)$。圧力一定の場合は、$f_k$は$\\bar{f}_k$に置きかわる。\n",
        "\n",
        "だから、後ろの項は、\n",
        "\n",
        "$$k_BT\\sum_k\\alpha_k\\ln[1-x_k(T,p)]-k_BT\\sum_k\\alpha_k\\left[{\\partial A\\over\\partial T}dT+{\\partial A\\over\\partial p}dp\\right]{\\exp A\\over 1+\\exp A}$$\n",
        "\n",
        "(田中式とかなりずれてきた。しかし続ける。)\n",
        "\n",
        "$\\mu_g$を$p$で微分すると$v_g$が得られる。$v_g$は fluid 内のゲストの体積\n",
        "\n",
        "$\\bar{f}_k$を$p$で微分すると$\\bar{v}_k$が得られる。$\\bar{v}_k$はケージの体積。\n",
        "\n",
        "$\\beta\\mu_g$を$T$で微分すると$-h_g/k_BT^2$が得られる。$h_g$は fluid 内のゲストのエンタルピー\n",
        "\n",
        "$\\beta\\bar{f}_k$を$T$で微分すると$-\\bar{h}_k/k_BT^2$が得られる。$\\bar{h}_k$はケージ内のゲストのエンタルピー\n",
        "\n",
        "$$k_BT\\sum_k\\alpha_k\\ln[1-x_k(T,p)]-k_BT\\sum_k\\alpha\\left[-{h_g-\\bar{h}_k\\over k_BT^2}dT+{v_g-\\bar{v}_k\\over k_B T}dp\\right]x_k$$\n",
        "\n",
        "田中式に戻った。さて、全部並べてみなおす。\n",
        "\n",
        "左辺。\n",
        "$$\\mu_w(T,p)-s_wdT+v_wdp$$\n",
        "右辺\n",
        "$$\\mu_c^0(T,p)-s_c^0dT+v_c^0dp+k_BdT\\sum_k\\alpha\\ln[1-x_k(T,p)]+k_BT\\sum_k\\alpha_k\\ln[1-x_k(T,p)]-k_BT\\sum_k\\alpha_k\\left[-{h_g-\\bar{h}_k\\over k_BT^2}dT+{v_g-\\bar{v}_k\\over k_B T}dp\\right]x_k$$\n",
        "\n",
        "左右から A1 式の部分を取り除くと、dT と dp の項のみが残る。\n",
        "\n",
        "$$\\left(-s_w+s_c^0-k_B\\sum_k\\alpha_k\\ln[1-x_k]-\\sum_k\\alpha_k x_k{h_g-\\bar{h}_k\\over T}\\right)dT$$\n",
        "$$=\\left(-s_w+s_c^0-k_B\\sum_k\\alpha_k\\ln[1-x_k]-k_BT\\sum_k\\alpha_k x_k{h_g-\\bar{h}_k\\over k_BT^2}\\right)dT$$\n",
        "$$=\\left(-v_w+v_c^0-\\sum_k\\alpha_k x_k(v_g-\\bar{v}_k)\\right)dp$$\n",
        "$${dp\\over dT}={-s_w+s_c^0-k_B\\sum_k\\alpha_k\\ln[1-x_k]-\\sum_k\\alpha_kx_k{h_g-\\bar{h}_k\\over T}\\over -v_w+v_c^0-\\sum_k\\alpha_k x_k(v_g-\\bar{v}_k)}$$\n",
        "\n",
        "ここで、\n",
        "\n",
        "$$\\Delta h_{gk}=\\bar{h}_k-h_g$$\n",
        "$$\\Delta v_{gk}=\\bar{v}_k-v_g$$\n",
        "$$\\Delta v_w=v_c^0-v_w$$\n",
        "$$\\Delta s_w=s_v^0-s_w$$\n",
        "\n",
        "とおくと、\n",
        "\n",
        "$${dp\\over dT}={\\Delta s_w-k_B\\sum_k\\alpha_k\\ln[1-x_k]-\\sum_k\\alpha_kx_k{\\Delta h_{gk}\\over T}\\over -v_w+v_c^0-\\sum_k\\alpha_k x_k\\Delta v_{gk}}$$\n",
        "\n",
        "田中式に一致。元の式は、与えられた p,T 条件で 2 相が平衡になる条件を求めていた。だから、この曲線は 2 相が平衡になる共存線の形を表現する。\n"
      ]
    },
    {
      "cell_type": "markdown",
      "id": "5e10ea95",
      "metadata": {
        "id": "5e10ea95"
      },
      "source": [
        "## 分母が 0 になる条件\n",
        "\n",
        "$$\\Delta v_w+\\sum_k\\alpha_k x_k\\Delta v_{gk}=0$$\n",
        "\n",
        "全体を Nw 倍すると、第 1 項は水の体積変化。第 2 項は、ケージの個数 × ケージあたりの分子数 × 分子あたりの体積変化。つまり、ゲスト分子の体積変化。これらが相殺するなら、分母は 0 になる。\n",
        "\n",
        "(ゲストが気体の場合は相殺しないのは自明、らしい)\n"
      ]
    },
    {
      "cell_type": "markdown",
      "id": "62131b6d",
      "metadata": {
        "id": "62131b6d"
      },
      "source": [
        "## 分子が 0 になる条件\n",
        "\n",
        "$$\\Delta s_w-k_B\\sum_k\\alpha_k\\ln[1-x_k]+\\sum_k\\alpha_k x_k{\\Delta h_{gk}\\over T}=0$$\n",
        "\n",
        "こっちはなんとなくエントロピー変化の相殺っぽい。第 1 項はもちろん水のエントロピー変化。第 3 項は相転移エントロピー。第 2 項はケージを選択するエントロピーっぽい。(第 3 項に含まれそうな気もするが)\n",
        "\n",
        "\\_\\_問題は、こんな条件をみたす Δ 変数の組み合わせを数値的に見付けられるかどうか。\n",
        "\n",
        "それぞれの量をどうやって計量するかを考える。\\_\\_\n"
      ]
    },
    {
      "cell_type": "markdown",
      "id": "f877967b",
      "metadata": {
        "id": "f877967b"
      },
      "source": [
        "## 考察\n",
        "\n",
        "ところで、この式も分母分子がそれぞれ$\\alpha_k$の線形結合になっているので、もしかして一般化できる?\n",
        "\n",
        "異なる相の曲線が交わる場合、それは何を意味する?\n"
      ]
    },
    {
      "cell_type": "markdown",
      "id": "ZOZlr5PP_Y0E",
      "metadata": {
        "id": "ZOZlr5PP_Y0E"
      },
      "source": [
        "# 一般化相図上の点の圧力依存性\n",
        "\n",
        "(2022-06-27)\n",
        "\n",
        "論文 MT2022 では、Appendix で勾配だけを議論したが、点の移動量もけっこう簡単に表せるはず。\n",
        "\n",
        "図 3 の、Loci の圧力依存性について考察する。\n"
      ]
    },
    {
      "cell_type": "markdown",
      "id": "iDfR2Yl5_s83",
      "metadata": {
        "id": "iDfR2Yl5_s83"
      },
      "source": [
        "## 1. 大小ケージがどちらも埋まっている場合。\n",
        "\n",
        "$${\\partial Y\\over\\partial p}\\simeq \\sum_k\\left(\\alpha_k^\\mathrm{(HS-I)}-\\alpha_k^\\mathrm{(CS-II)}\\right){k_\\mathrm{B}T\\over p}$$\n",
        "$$=\\left({14\\over 80}-{24\\over 136}\\right){k_\\mathrm{B}T\\over p}$$\n",
        "$$=-{k_\\mathrm{B}T\\over 680}{1\\over p}$$\n",
        "$$Y=-{k_\\mathrm{B}T\\over 680}\\ln p+C$$\n",
        "\n",
        "圧力が変化しても、点はわずかしか動かない。圧力が増加すると、下に動く(!)実際の GPD ではわずかに上に動いているように見えるので、近似がうまくなりたっていない。圧力に依存して、占有率がけっこう変動しているかも。\n"
      ]
    },
    {
      "cell_type": "markdown",
      "id": "DBCnwroN_oBy",
      "metadata": {
        "id": "DBCnwroN_oBy"
      },
      "source": [
        "## 2. 大ケージのみ埋まっている場合。\n",
        "\n",
        "$${\\partial Y\\over\\partial p}\\simeq \\sum_{k\\in\\{14,15,16\\}}\\left(\\alpha_k^\\mathrm{(HS-I)}-\\alpha_k^\\mathrm{(CS-II)}\\right){k_\\mathrm{B}T\\over p}$$\n",
        "$$=\\left({8\\over 80}-{8\\over 136}\\right){k_\\mathrm{B}T\\over p}$$\n",
        "$$={7k_\\mathrm{B}T\\over 170}{1\\over p}$$\n",
        "$$Y={7k_\\mathrm{B}T\\over 170}\\ln p+C$$\n",
        "\n",
        "小ケージが埋まっている場合に比べ 28 倍動く。圧力が増加すると上に動く。\n",
        "例えば、273 K で圧力が 5 倍変化すると、\n",
        "$$\\Delta Y={7k_\\mathrm{B}T\\over 170}\\ln 5=150$$\n",
        "150 kJ/mol だけ上に動く。これは図 3 の〇と+の変位に一致する。\n"
      ]
    },
    {
      "cell_type": "markdown",
      "id": "X5m58jqO_xCU",
      "metadata": {
        "id": "X5m58jqO_xCU"
      },
      "source": [
        "# References\n",
        "\n",
        "- MT2022\n"
      ]
    },
    {
      "cell_type": "markdown",
      "id": "804e96af",
      "metadata": {},
      "source": [
        "# TMYTMK2025\n",
        "\n",
        "THEORY AND METHODS の解読。\n"
      ]
    },
    {
      "cell_type": "markdown",
      "id": "87a0f653",
      "metadata": {},
      "source": [
        "## A. ハイドレート内の水と CO2 の化学ポテンシャル\n",
        "\n",
        "ハイドレート内の水の化学ポテンシャルはご存じ vdWP 理論で計算される。\n",
        "\n",
        "$$ \\mu_w^\\mathrm{(hy)}(T,p,y_c)=\\mu_h^0(T,p)+k_BT\\sum_j\\alpha_j\\ln(1-x_j)\\tag{1}$$\n",
        "\n",
        "$j$はケージの種類、$x_j$は CO2 による占有率、$\\mu_h^0(T,p)$は空のハイドレートの化学ポテンシャル、$\\alpha_j$はハイドレートの構造の中の水分子とケージ$j$の個数の比。左辺にある、CO2 の組成比$y_c$は右辺には明示的には現れていない。\n",
        "\n",
        "$x_j$は次の式で計算できる。\n",
        "\n",
        "$$ x_j=\\frac{\\exp\\left[\\left(\\mu_g-f_j\\right)/k_BT\\right]}{\\exp\\left[\\left(\\mu_g-f_j\\right)/k_BT\\right]+1}\\tag{2}$$\n",
        "\n",
        "ただし$\\mu_g$はハイドレート中の CO2 の化学ポテンシャルでこれは外部の CO2 の化学ポテンシャルと等しい。$f_j$はケージ占有自由エネルギーで、積分で計算される。\n",
        "\n",
        "$y_c$はハイドレート内の組成比。水分子の個数を$N_w$と書くと、タイプ$j$のケージの個数は$N_w\\alpha_j$なので、もし式で書くなら、こんな感じ。\n",
        "\n",
        "$$y_c = \\frac{\\sum_j N_w\\alpha_jx_j}{N_w+\\sum_j N_w\\alpha_jx_j}= \\frac{\\sum_j \\alpha_jx_j}{1+\\sum_j \\alpha_jx_j}$$\n"
      ]
    },
    {
      "cell_type": "markdown",
      "id": "48195fa4",
      "metadata": {},
      "source": [
        "## B. ハイドレートがない時の、水と CO2 の化学ポテンシャル\n",
        "\n",
        "CO2 は水よく溶けるほうだが、そうは言ってもたいした量は溶けず、10 MPa かけても、溶解による化学ポテンシャルの変化は 0.04 kJ/mol と小さい。なので、水の化学ポテンシャルは CO2 が溶けても変化しないものと考える。\n",
        "\n",
        "この状況での組成比を$z_c$と書く。\n",
        "\n",
        "ハイドレートと CO2 水溶液が平衡にある時の、ハイドレートと水溶液での組成比をそれぞれ$y'_c$、$z'_c$と書く。また、逆に少量の水が CO2 に溶けた溶液とハイドレートが平衡にある場合の組成比はそれぞれ$y''_c$、$z''_c$と書くことにする。\n",
        "\n",
        "後者の場合の水の化学ポテンシャルは次の式で与えられる。\n",
        "\n",
        "$$\\mu_w^\\mathrm{(lq)}(T,p,z''_c)=k_BT\\ln(\\rho_w\\lambda_w^3)+\\mu_w^e(T,p,z''_c)+f_\\mathrm{rotw}(T)\\tag{3}$$\n",
        "\n",
        "> (何これ)\n",
        "\n",
        "$\\rho_w$、$\\lambda_w$、$f_\\mathrm{rotw}$はそれぞれ CO2 内の水の数密度、熱ドブロイ波長、水分子の回転の自由エネルギー。$\\mu_w^e(T,p,z''_c)$は水が周囲の CO2 と相互作用することによる過剰化学ポテンシャル。\n",
        "\n",
        "> (つまり$k_BT\\ln(\\rho_w\\lambda_w^3)$は並進項。右辺の第 1、3 項だけだと気体の化学ポテンシャルになるが、溶液なので相互作用の寄与がある。)\n",
        "\n",
        "CO2 リッチの場合、水は全部溶けているわけではなく、ほとんどが溶け残っている。なので、水の化学ポテンシャルは溶け残りの純水の化学ポテンシャルと等しいとみなせる。\n",
        "\n",
        "$$\\mu_w^\\mathrm{(lq)}(T,p,z''_c)\\simeq \\mu_w^0(T,p)\\tag{4}$$\n",
        "\n",
        "また、$z''_c$がほとんど 1 なので、$\\mu_w^e(T,p,z''_c)$を$\\mu_w^e(T,p,1)$に書きかえる。\n",
        "\n",
        "> 無限希釈。この項はあとで 11 式で数値的に推定している。\n",
        "\n",
        "これをぐるぐるっと式変形することにより、水の数密度を逆算する。\n",
        "\n",
        "$$ \\rho_w(T,p)=\\lambda_w^{-3}\\exp\\left[\\frac{\\mu_w^0(T,p)-\\mu_w^e(T,p)-f*\\mathrm{rotw}(T)}{k_BT}\\right]\\tag{5}$$\n",
        "\n",
        "これは CO2 の水への溶解度を計算する方法と同様。\n",
        "\n",
        "水の CO2 への溶解度$z''_w(=1-z''_c)$は次のように計算できる。\n",
        "\n",
        "$$z''_w(T,p)=\\frac{\\rho_w(T,p)}{\\rho_g(T,p)+\\rho_w^\\mathrm{(lq)}(T,p)}\\simeq\\frac{\\rho_w(T,p)}{\\rho_g(T,p)}\\tag{6}$$\n",
        "\n",
        "> いくつか近似で項が消えているが、残る項が計算可能かどうかまだわからない。\n"
      ]
    },
    {
      "cell_type": "markdown",
      "id": "56a73785",
      "metadata": {},
      "source": [
        "## C. ハイドレートがある場合の水と CO2 の化学ポテンシャル\n",
        "\n",
        "水が過剰な場合の計算はここでは省略。\n",
        "\n",
        "CO2 が過剰な場合。(ハイドレート単独で存在できる状態よりも CO2 が多く、ハイドレートと、CO2 に溶けた水と、溶けのこった水が存在する状況)ハイドレートの中の CO2 の化学ポテンシャルと、溶液の CO2 の化学ポテンシャルは等しい。\n",
        "\n",
        "> いつもだと、水が多い場合しか考えないので、「ハイドレートの中の水の化学ポテンシャルと、溶液の水の化学ポテンシャルは等しい。」という前提で考えているが、今回は主客逆転している。\n",
        "\n",
        "$$\\mu_c^\\mathrm{(hy)}(T,p,y''_c)=\\mu_c^\\mathrm{(lq)}(T,p,z''_c).\\tag{7}$$\n",
        "\n",
        "CO2 に水はほとんど溶けていないので右辺は$\\mu_c^\\mathrm{(lq)}(T,p)$、つまり純液体 CO2 の化学ポテンシャルに置きかえていい。\n",
        "\n",
        "この状況で水についても平衡の式を立てる。\n",
        "\n",
        "$$\\mu_w^\\mathrm{(hy)}(T,p,y''_c)=\\mu_w^\\mathrm{(lq)}(T,p,z''_c).\\tag{8}$$\n",
        "\n",
        "左辺は、ハイドレート単体が安定になれる領域の、左端(CO2 の組成比最小)と右端(同最大)での水の化学ポテンシャルの差$\\Delta\\mu_w^\\mathrm{(hy)}$を使って、$\\mu_w^0(T,p)+\\Delta\\mu_w^\\mathrm{(hy)}$と形式的に書ける。\n",
        "\n",
        "この時、水の密度は次のように書ける。\n",
        "\n",
        "$$ \\rho_w(T,p)=\\lambda_w^{-3}\\exp\\left[\\frac{\\mu_w^0(T,p)+\\Delta\\mu_w^\\mathrm{(hy)}-\\mu_w^e(T,p)-f*\\mathrm{rotw}(T)}{k_BT}\\right]\\tag{9}$$\n",
        "\n",
        "> $\\Delta\\mu_w^\\mathrm{(hy)}$が追加されただけ。これを計算する方法はまだ言及がない。\n",
        "\n",
        "氷中の水の化学ポテンシャル$\\mu_w^\\mathrm{(ice)}(T,p)$は、非調和的な寄与を含む必要がある。この項は以前に計算されており、290 K 付近でおおよそ$-1~\\mathrm{kJ~mol^{-1}}$である。純粋な液体の水の場合、その化学ポテンシャルは、MD シミュレーションから得られた融点$T_m$における水と氷のエントロピー差$\\Delta s$と熱容量差$\\Delta c_p$を用いて、近似的に次のように評価される。\n",
        "\n",
        "$$\\mu_w^0(T,p)\\simeq \\mu_{ic}(T,p)-\\Delta s(T_m,p)\\Delta T-\\frac{\\Delta c_p(T_m, p)}{2T_m}\\Delta T^2\\tag{10}$$\n",
        "\n",
        "> $\\mu_w^e(T,p)$は E 節式(11)で粒子挿入法で推定している。これで役者はそろったのか?\n"
      ]
    },
    {
      "cell_type": "code",
      "execution_count": null,
      "id": "ca3e2fab",
      "metadata": {
        "id": "ca3e2fab"
      },
      "outputs": [],
      "source": []
    },
    {
      "cell_type": "code",
      "execution_count": null,
      "id": "b82772d3",
      "metadata": {
        "id": "b82772d3"
      },
      "outputs": [],
      "source": []
    },
    {
      "cell_type": "markdown",
      "id": "521b70a0",
      "metadata": {
        "id": "521b70a0"
      },
      "source": []
    }
  ],
  "metadata": {
    "colab": {
      "include_colab_link": true,
      "name": "Derivations.ipynb",
      "provenance": []
    },
    "kernelspec": {
      "display_name": "Python 3",
      "language": "python",
      "name": "python3"
    },
    "language_info": {
      "codemirror_mode": {
        "name": "ipython",
        "version": 3
      },
      "file_extension": ".py",
      "mimetype": "text/x-python",
      "name": "python",
      "nbconvert_exporter": "python",
      "pygments_lexer": "ipython3",
      "version": "3.9.13"
    }
  },
  "nbformat": 4,
  "nbformat_minor": 5
}
